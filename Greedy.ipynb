{
  "nbformat": 4,
  "nbformat_minor": 0,
  "metadata": {
    "celltoolbar": "Edit Metadata",
    "kernelspec": {
      "display_name": "Python 3",
      "language": "python",
      "name": "python3"
    },
    "language_info": {
      "codemirror_mode": {
        "name": "ipython",
        "version": 3
      },
      "file_extension": ".py",
      "mimetype": "text/x-python",
      "name": "python",
      "nbconvert_exporter": "python",
      "pygments_lexer": "ipython3",
      "version": "3.7.4"
    },
    "colab": {
      "name": "Greedy.ipynb",
      "provenance": [],
      "include_colab_link": true
    }
  },
  "cells": [
    {
      "cell_type": "markdown",
      "metadata": {
        "id": "view-in-github",
        "colab_type": "text"
      },
      "source": [
        "<a href=\"https://colab.research.google.com/github/monicaaraneda/AlgoritmosNumericos/blob/main/Greedy.ipynb\" target=\"_parent\"><img src=\"https://colab.research.google.com/assets/colab-badge.svg\" alt=\"Open In Colab\"/></a>"
      ]
    },
    {
      "cell_type": "code",
      "metadata": {
        "id": "52h9Eoo6E5yG"
      },
      "source": [
        "import math\n",
        "\n",
        "\n",
        "class Objeto:\n",
        "\n",
        "    def __init__(self, nombre='diamante', valor=0.0, peso=0.0):\n",
        "        self.nombre = nombre\n",
        "        self.valor = valor\n",
        "        self.peso = peso\n",
        "\n",
        "    def __str__(self):\n",
        "        return 'Nombre: {}\\nValor: {} $ \\nPeso: {} kg\\n'.format(self.nombre, self.valor, self.peso)\n",
        "\n",
        "\n",
        "def select(candidates_set):\n",
        "    limit = -math.inf\n",
        "    best_candidate = None\n",
        "\n",
        "    for candidate in candidates_set:\n",
        "        if candidate.valor / candidate.peso > limit:\n",
        "            best_candidate = candidate\n",
        "            limit = candidate.valor / candidate.peso\n",
        "\n",
        "    return best_candidate\n",
        "\n",
        "\n",
        "def objetivo(mochila):\n",
        "    valor_total = 0\n",
        "\n",
        "    for objeto in mochila:\n",
        "        valor_total += objeto.valor\n",
        "\n",
        "    return valor_total\n",
        "\n",
        "def peso(mochila):\n",
        "    valor_total = 0\n",
        "\n",
        "    for objeto in mochila:\n",
        "        valor_total += objeto.peso\n",
        "\n",
        "    return valor_total\n",
        "\n",
        "\n",
        "def knapsack_problem(objetos, capacidad):\n",
        "    candidates_set = objetos[:]\n",
        "    candidates_selected = []\n",
        "\n",
        "    while capacidad != 0 and candidates_set:\n",
        "        candidato = select(candidates_set)\n",
        "        candidates_set.remove(candidato)\n",
        "\n",
        "        if candidato.peso <= capacidad:\n",
        "            capacidad = capacidad - candidato.peso\n",
        "            candidates_selected.append(candidato)\n",
        "        else:\n",
        "            candidato.peso = capacidad\n",
        "            candidato.valor = candidato.valor * capacidad / candidato.peso\n",
        "            candidates_selected.append(candidato)\n",
        "            capacidad = 0\n",
        "\n",
        "    return candidates_selected\n",
        "\n"
      ],
      "execution_count": null,
      "outputs": []
    },
    {
      "cell_type": "code",
      "metadata": {
        "id": "Jkh1OC5aE5yG"
      },
      "source": [
        "import math\n",
        "\n",
        "class Artista:\n",
        "    def __init__(self, i, j):\n",
        "        self.i = i\n",
        "        self.j = j\n",
        "\n",
        "def prim(matrix, number_of_vertices):\n",
        "\n",
        "    path = [1 for i in range(1, number_of_vertices)].insert(0,0)\n",
        "    cost = [matrix[1, j] for j in range(1, number_of_vertices)].insert(0,math.inf)\n",
        "    candidates_set = [i for i in range(1, number_of_vertices)]\n",
        "\n",
        "    candidates_selected = []\n",
        "\n",
        "    while candidates_selected.count() != 0:\n",
        "        vertice = select(candidates_set)\n",
        "        candidates_selected.remove(vertice)\n",
        "        candidates_selected.append(path[vertice], vertice)\n",
        "\n",
        "        for j in candidates_set:\n",
        "            if matrix[vertice, j] < cost[j]:\n",
        "                cost[j] = matrix=[vertice, j]\n",
        "                path[j] = vertice\n",
        "\n",
        "    return candidates_selected"
      ],
      "execution_count": null,
      "outputs": []
    },
    {
      "cell_type": "markdown",
      "metadata": {
        "id": "lkWFQ3JcE5yG"
      },
      "source": [
        "## Funciones de carga inicial de datos"
      ]
    },
    {
      "cell_type": "code",
      "metadata": {
        "id": "shjCvdWFE5yG"
      },
      "source": [
        "import numpy as np\n",
        "\n",
        "def readFile(archivo):\n",
        "    f = open(archivo)\n",
        "    data = f.read().strip()\n",
        "    f.close()\n",
        "    M = [[int(num) for num in line.strip().split()] for line in data.split('\\n')]\n",
        "    return M\n",
        "\n",
        "\n",
        "def creaArista(archivo):\n",
        "   matriz = []\n",
        "   valores = readFile(archivo)\n",
        "   X = np.array(valores, dtype=np.int16)\n",
        "   # iterate through rows\n",
        "   for i in range(len(X)):\n",
        "       # iterate through columns\n",
        "       for j in range(len(X[0])):\n",
        "           matriz.append(Artista( X[i][j], X[i][j+1]))\n",
        "           break\n",
        "            \n",
        "   return matriz\n",
        "\n",
        "def creaMatriz(archivo):\n",
        "   matriz = []\n",
        "   valores = readFile(archivo)\n",
        "   X = np.array(valores, dtype=np.int16)\n",
        "   # iterate through rows\n",
        "   for i in range(len(X)):\n",
        "       # iterate through columns\n",
        "       for j in range(len(X[0])):\n",
        "           matriz.append(Objeto(i, X[i][j], X[i][j+1]))\n",
        "           break\n",
        "            \n",
        "   return matriz\n"
      ],
      "execution_count": null,
      "outputs": []
    },
    {
      "cell_type": "markdown",
      "metadata": {
        "id": "7vEPJIg9E5yG"
      },
      "source": [
        "### Caso 1 con 10 elementos"
      ]
    },
    {
      "cell_type": "code",
      "metadata": {
        "colab": {
          "base_uri": "https://localhost:8080/"
        },
        "id": "9Nu2VDMQE5yG",
        "outputId": "112f5ccd-4416-4fe7-db0e-38ab76816edc"
      },
      "source": [
        "from operator import methodcaller\n",
        "\n",
        "capacidad = 1000.0\n",
        "archivo = \"sample_data/knapPI_1_10_1000_1\"\n",
        "\n",
        "objetos1 = []\n",
        "arista1 = []\n",
        "\n",
        "objetos1 = creaMatriz(archivo)\n",
        "arista1 = creaArista(archivo)\n",
        "\n",
        "print('Arista Ordenada \\n\\n')\n",
        "for aris in arista1:\n",
        "    print(aris.i, aris.j)\n",
        "\n",
        "objetos1.sort(key=lambda x: x.peso, reverse=False)\n",
        "\n",
        "print('\\n\\n Lista Ordenada \\n\\n')\n",
        "for items in objetos1:\n",
        "    print(items.nombre, items.peso, items.valor)\n",
        "    \n",
        "mochila1 = knapsack_problem(objetos1, capacidad)\n",
        "\n",
        "print('\\n\\n Mochila \\n\\n')\n",
        "for objetos1 in mochila1:\n",
        "     print(objetos1)\n",
        "\n",
        "print(\"Beneficio total: \", objetivo(mochila1), \"$\")\n",
        "print(\"Peso total: \", peso(mochila1), \"$\")\n",
        "\n",
        "\n",
        "#prim(arista1, 10)"
      ],
      "execution_count": null,
      "outputs": [
        {
          "output_type": "stream",
          "text": [
            "Arista Ordenada \n",
            "\n",
            "\n",
            "94 485\n",
            "506 326\n",
            "416 248\n",
            "992 421\n",
            "649 322\n",
            "237 795\n",
            "457 43\n",
            "815 845\n",
            "446 955\n",
            "422 252\n",
            "\n",
            "\n",
            " Lista Ordenada \n",
            "\n",
            "\n",
            "6 43 457\n",
            "2 248 416\n",
            "9 252 422\n",
            "4 322 649\n",
            "1 326 506\n",
            "3 421 992\n",
            "0 485 94\n",
            "5 795 237\n",
            "7 845 815\n",
            "8 955 446\n",
            "\n",
            "\n",
            " Mochila \n",
            "\n",
            "\n",
            "Nombre: 6\n",
            "Valor: 457 $ \n",
            "Peso: 43 kg\n",
            "\n",
            "Nombre: 3\n",
            "Valor: 992 $ \n",
            "Peso: 421 kg\n",
            "\n",
            "Nombre: 4\n",
            "Valor: 649 $ \n",
            "Peso: 322 kg\n",
            "\n",
            "Nombre: 2\n",
            "Valor: 416.0 $ \n",
            "Peso: 214.0 kg\n",
            "\n",
            "Beneficio total:  2514.0 $\n",
            "Peso total:  1000.0 $\n"
          ],
          "name": "stdout"
        }
      ]
    },
    {
      "cell_type": "code",
      "metadata": {
        "colab": {
          "base_uri": "https://localhost:8080/"
        },
        "id": "gzwbZTU_E5yH",
        "outputId": "a51d6d52-956d-4378-fc67-d6a344a7d7f5"
      },
      "source": [
        "from operator import methodcaller\n",
        "\n",
        "capacidad = 1000.0\n",
        "archivo = \"sample_data/knapPI_1_100_1000_1\"\n",
        "\n",
        "objetos1 = []\n",
        "\n",
        "objetos1 = creaMatriz(archivo)\n",
        "objetos1.sort(key=lambda x: x.peso, reverse=False)\n",
        "\n",
        "#print('Lista Ordenada \\n\\n')\n",
        "#for items in objetos1:\n",
        "#    print(items.nombre, items.peso, items.valor)\n",
        "    \n",
        "mochila1 = knapsack_problem(objetos1, capacidad)\n",
        "\n",
        "#print('\\n\\n Mochila \\n\\n')\n",
        "#for objetos in mochila1:\n",
        "#     print(objetos)\n",
        "\n",
        "MO1 = objetivo(mochila1)\n",
        "MP1 = peso(mochila1)\n",
        "print(\"Beneficio total: \",MO1 , \"$\")\n",
        "print(\"Peso total: \", MP1, \"$\")"
      ],
      "execution_count": null,
      "outputs": [
        {
          "output_type": "stream",
          "text": [
            "Beneficio total:  9386.0 $\n",
            "Peso total:  1000.0 $\n"
          ],
          "name": "stdout"
        }
      ]
    },
    {
      "cell_type": "markdown",
      "metadata": {
        "id": "t4sT0mEqE5yH"
      },
      "source": [
        "### Caso 2 con 200 elementos"
      ]
    },
    {
      "cell_type": "code",
      "metadata": {
        "colab": {
          "base_uri": "https://localhost:8080/"
        },
        "id": "94H-SafKE5yH",
        "outputId": "f28a6600-842d-4cc5-961b-881f3e511094"
      },
      "source": [
        "capacidad = 1000.0\n",
        "archivo = \"sample_data/knapPI_1_200_1000_1\"\n",
        "\n",
        "objetos2 = []\n",
        "objetos2 = creaMatriz(archivo)\n",
        "objetos2.sort(key=lambda x: x.peso, reverse=False)\n",
        "    \n",
        "mochila2 = knapsack_problem(objetos2, capacidad)\n",
        "\n",
        "#print('\\n\\n Mochila \\n\\n')\n",
        "#for objetos in mochila2:\n",
        "#     print(objetos)\n",
        "\n",
        "MO2 = objetivo(mochila2)\n",
        "MP2 = peso(mochila2)\n",
        "print(\"Beneficio total: \",MO2 , \"$\")\n",
        "print(\"Peso total: \", MP2, \"$\")"
      ],
      "execution_count": null,
      "outputs": [
        {
          "output_type": "stream",
          "text": [
            "Beneficio total:  11836.0 $\n",
            "Peso total:  1000.0 $\n"
          ],
          "name": "stdout"
        }
      ]
    },
    {
      "cell_type": "markdown",
      "metadata": {
        "id": "LN-HZA3hE5yH"
      },
      "source": [
        "### Caso 3 con 500 elementos"
      ]
    },
    {
      "cell_type": "code",
      "metadata": {
        "id": "LlM-4r1eE5yH"
      },
      "source": [
        "capacidad = 1000.0\n",
        "objetos3 = []\n",
        "archivo = \"sample_data/knapPI_1_500_1000_1\"\n",
        "\n",
        "objetos3 = creaMatriz(archivo)\n",
        "objetos3.sort(key=lambda x: x.peso, reverse=False)\n",
        "mochila3 = knapsack_problem(objetos3, capacidad)\n",
        "\n",
        "#print('\\n\\n Mochila \\n\\n')\n",
        "#for objetos in mochila3:\n",
        "#     print(objetos)\n",
        "\n",
        "MO3 = objetivo(mochila3)\n",
        "MP3 = peso(mochila3)\n",
        "print(\"Beneficio total: \",MO3 , \"$\")\n",
        "print(\"Peso total: \", MP3, \"$\")"
      ],
      "execution_count": null,
      "outputs": []
    },
    {
      "cell_type": "markdown",
      "metadata": {
        "id": "9Gxb6SGOE5yI"
      },
      "source": [
        "### Caso 4 con 1000 elementos"
      ]
    },
    {
      "cell_type": "code",
      "metadata": {
        "id": "3-gfILhoE5yI"
      },
      "source": [
        "capacidad = 1000.0\n",
        "objetos4 = []\n",
        "archivo = \"sample_data/knapPI_1_1000_1000_1\"\n",
        "\n",
        "objetos4 = creaMatriz(archivo)\n",
        "objetos4.sort(key=lambda x: x.peso, reverse=False)\n",
        "mochila4 = knapsack_problem(objetos4, capacidad)\n",
        "\n",
        "#print('\\n\\n Mochila \\n\\n')\n",
        "#for objetos in mochila4:\n",
        "#     print(objetos)\n",
        "\n",
        "MO4 = objetivo(mochila4)\n",
        "MP4 = peso(mochila4)\n",
        "print(\"Beneficio total: \",MO4 , \"$\")\n",
        "print(\"Peso total: \", MP4, \"$\")"
      ],
      "execution_count": null,
      "outputs": []
    },
    {
      "cell_type": "markdown",
      "metadata": {
        "id": "InITM3JxE5yI"
      },
      "source": [
        "## importando modulos necesarios"
      ]
    },
    {
      "cell_type": "code",
      "metadata": {
        "id": "mZEKKdb2E5yI"
      },
      "source": [
        "# importando modulos necesarios\n",
        "import matplotlib.pyplot as plt \n",
        "import numpy as np \n",
        "from scipy import optimize\n",
        "import cvxopt\n",
        "#import pulphttp://localhost:8888/notebooks/Documents/CAPACITACION/USACH/2020-2/3.Teoria%20Computacion/lab-1/problema-mochila/Greedy.ipynb#m%C3%ADnimos-cuadrados-no-lineales\n",
        "from pyomo.environ import *\n",
        "from pyomo.opt import SolverFactory\n",
        "import pyomo.environ\n",
        "\n",
        "np.random.seed(1984) #replicar random\n",
        "\n",
        "%matplotlib inline"
      ],
      "execution_count": null,
      "outputs": []
    },
    {
      "cell_type": "markdown",
      "metadata": {
        "id": "6mMdmnTmE5yI"
      },
      "source": [
        "##  mínimos cuadrados"
      ]
    },
    {
      "cell_type": "code",
      "metadata": {
        "id": "LWgnHtijE5yI"
      },
      "source": [
        "def creaLista_A(archivo):\n",
        "    lista = []\n",
        "    valores = readFile(archivo)\n",
        "    X = np.array(valores, dtype=np.int16)\n",
        "    for i in range(len(X)):\n",
        "       # iterate through columns\n",
        "       for j in range(len(X[0])):\n",
        "         #lista.append((i, X[i][j]))\n",
        "         value= (X[i][j], X[i][j+1])\n",
        "         print(value[0])\n",
        "         lista.append(value[1])\n",
        "\n",
        "    return lista\n",
        "                      \n",
        "def creaLista_B(archivo):\n",
        "    lista = []\n",
        "    valores = readFile(archivo)\n",
        "    X = np.array(valores, dtype=np.int16)\n",
        "    for i in range(len(X)):\n",
        "       # iterate through columns\n",
        "       for j in range(len(X[0])):\n",
        "         value= (X[i])\n",
        "         #print(value[1])\n",
        "         lista.append(value[0])\n",
        "    \n",
        "    return lista"
      ],
      "execution_count": null,
      "outputs": []
    },
    {
      "cell_type": "code",
      "metadata": {
        "id": "e1ZhihYVE5yI"
      },
      "source": [
        "\n",
        "import numpy as np \n",
        "import matplotlib.pyplot as plt \n",
        "\n",
        "def RegLin(x,y):\n",
        "    X = np.asarray(x)\n",
        "    Y = np.asarray(y)\n",
        "    n_x = len(X)\n",
        "    n_y = len(Y)\n",
        "    if n_x != n_y:\n",
        "        print('No se tiene el mismo número de elementos en x y y')\n",
        "    else:\n",
        "        S_x = np.sum(X)\n",
        "        S_y = np.sum(Y)\n",
        "        S_xy = np.sum(X*Y)\n",
        "        S_xx = np.sum(X**2)\n",
        "        S_yy = np.sum(Y**2)\n",
        "        r_cua = ((n_x*S_xy - S_x*S_y)/(np.sqrt(n_x*S_xx - S_x**2)*np.sqrt(n_x*S_yy - S_y**2)))**2\n",
        "\n",
        "        a_1 = (n_x*S_xy - S_x*S_y)/(n_x*S_xx - S_x**2)\n",
        "        a_0 = (S_xx*S_y - S_xy*S_x)/(n_x*S_xx - S_x**2)\n",
        "\n",
        "    return a_1, a_0, r_cua\n",
        "\n",
        "archivo = \"./Mochila/knapPI_1_10_1000_1\"\n",
        "\n",
        "xData=  [1,2,3,4,5,6,7,8,9,10,11,12,13,14,15,16,17,18,19,20,21,22,23,24,25,26,27,28,29,30,31,32,33,34,35,36,37,38,39,40,41,42,43,44,45,46,47,48,49,50,51,52,53,54,55,56,57,58,59,60,61,62,63,64,65,66,67,68,69,70,71,72,73,74,75,76,77,78,79,80,81,82,83,84,85,86,87,88,89,90,91,92,93,94,95,96,97,98,99,100]\n",
        "yData = [94,506,416,992,649,237,457,815,446,422,791,359,667,598,7,544,334,766,994,893,633,131,428,700,617,874,720,419,794,196,997,116,908,539,707,569,537,931,726,487,772,513,81,943,58,303,764,536,724,789,479,142,339,641,196,494,66,824,208,711,800,314,289,401,466,689,833,225,244,849,113,379,361,65,486,686,286,889,24,491,891,90,181,214,17,472,418,419,356,682,306,201,385,952,500,194,737,324,992,224]\n",
        "zData = [485,326,248,421,322,795,43,845,955,252,9,901,122,94,738,574,715,882,367,984,299,433,682,72,874,138,856,145,995,529,199,277,97,719,242,107,122,70,98,600,645,267,972,895,213,748,487,923,29,674,540,554,467,46,710,553,191,724,730,988,90,340,549,196,865,678,570,936,722,651,123,431,508,585,853,642,992,725,286,812,859,663,88,179,187,619,261,846,192,261,514,886,530,849,294,799,391,330,298,790]\n",
        "print('xData',xData)\n",
        "print('yData',yData)\n",
        "\n",
        "coef_a1, coef_a0, coeDet = RegLin(xData, yData)\n",
        "print(coef_a1, coef_a0, coeDet)\n",
        "x_g = np.array([min(xData), max(xData)])\n",
        "fun = coef_a1*x_g + coef_a0\n",
        "\n"
      ],
      "execution_count": null,
      "outputs": []
    },
    {
      "cell_type": "code",
      "metadata": {
        "id": "sERN-OvdE5yI"
      },
      "source": [
        "# graficamos\n",
        "plt.scatter(xData, yData)\n",
        "plt.plot(x_g, fun)\n",
        "plt.show()"
      ],
      "execution_count": null,
      "outputs": []
    },
    {
      "cell_type": "code",
      "metadata": {
        "id": "Nxb-Ji3iE5yI"
      },
      "source": [
        "#pip install cvxopt"
      ],
      "execution_count": null,
      "outputs": []
    },
    {
      "cell_type": "code",
      "metadata": {
        "id": "1xu-lTECE5yI"
      },
      "source": [
        "#pip install pulp"
      ],
      "execution_count": null,
      "outputs": []
    },
    {
      "cell_type": "code",
      "metadata": {
        "id": "cEXRDDPNE5yI"
      },
      "source": [
        "#pip install pyomo"
      ],
      "execution_count": null,
      "outputs": []
    },
    {
      "cell_type": "code",
      "metadata": {
        "id": "3Mmv5CbSE5yI"
      },
      "source": [
        "archivo = \"./Mochila/knapPI_1_500_1000_1\"\n",
        "\n",
        "xData=  [1,2,3,4]\n",
        "yData = [MO1,MO2,MO3,MO4]\n",
        "zData = [MP1,MP2,MP3,MP4]\n",
        "print('xData',xData)\n",
        "print('yData',yData)\n",
        "\n",
        "coef_a1, coef_a0, coeDet = RegLin(xData, yData)\n",
        "print(coef_a1, coef_a0, coeDet)\n",
        "x_g = np.array([min(xData), max(xData)])\n",
        "fun = coef_a1*x_g + coef_a0\n"
      ],
      "execution_count": null,
      "outputs": []
    },
    {
      "cell_type": "code",
      "metadata": {
        "id": "SXH7Cyp3E5yI"
      },
      "source": [
        "# graficamos\n",
        "plt.plot(xData, yData)\n",
        "plt.plot(x_g, fun)\n",
        "plt.xlabel('Eje X []')  \n",
        "plt.ylabel('Eje Y [Beneficio]')\n",
        "plt.show()"
      ],
      "execution_count": null,
      "outputs": []
    },
    {
      "cell_type": "code",
      "metadata": {
        "id": "TFo-taQVE5yI"
      },
      "source": [
        "plt.hist(yData, bins=20)"
      ],
      "execution_count": null,
      "outputs": []
    },
    {
      "cell_type": "code",
      "metadata": {
        "id": "-zaqS2t5E5yI"
      },
      "source": [
        "2**100"
      ],
      "execution_count": null,
      "outputs": []
    },
    {
      "cell_type": "code",
      "metadata": {
        "id": "Yn3i6OQIE5yI"
      },
      "source": [
        ""
      ],
      "execution_count": null,
      "outputs": []
    }
  ]
}